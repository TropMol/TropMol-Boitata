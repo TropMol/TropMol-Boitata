{
  "cells": [
    {
      "cell_type": "markdown",
      "metadata": {
        "id": "view-in-github",
        "colab_type": "text"
      },
      "source": [
        "<a href=\"https://colab.research.google.com/github/TropMol/TropMol-Boitata/blob/main/ProjectB.ipynb\" target=\"_parent\"><img src=\"https://colab.research.google.com/assets/colab-badge.svg\" alt=\"Open In Colab\"/></a>"
      ]
    },
    {
      "cell_type": "markdown",
      "metadata": {
        "id": "xMEJ1Iw5DrZ0"
      },
      "source": [
        "# Beta project\n",
        "\n",
        "Boitatá module (AChE inhibitors predictor)\n",
        "\n",
        "Developed by: Thiago H. Döring\n",
        "\n",
        "**Bugs**\n",
        "- If you encounter any bugs, please report the issue to thiago.doring@ufsc.br\n",
        "\n",
        "v. 1.0"
      ]
    },
    {
      "cell_type": "markdown",
      "metadata": {
        "id": "YNslGk9txunH"
      },
      "source": [
        "# Libraries and packages\n",
        "\n",
        "The main packages are:\n",
        "\n",
        "1. RdKit (www....)\n",
        "\n",
        "X. ChEMBL (www..) Current Release: ChEMBL 33\n",
        "Provided under a [Creative Commons Attribution-ShareAlike 3.0 Unported license](https://https://creativecommons.org/licenses/by-sa/3.0/), [ChEMBL 1](https://https://doi.org/10.1093/nar/gkad1004), [ChEMBL 2](https://doi.org/10.1093/nar/gkv352)."
      ]
    },
    {
      "cell_type": "code",
      "execution_count": null,
      "metadata": {
        "id": "HJu7Ku9bKrOs",
        "cellView": "form"
      },
      "outputs": [],
      "source": [
        "#@title Install libraries and packages\n",
        "\n",
        "!pip install rdkit-pypi\n",
        "!sudo apt-get install python3-rdkit\n",
        "!pip install ipywidgets\n",
        "!jupyter nbextension enable --py widgetsnbextension\n",
        "!pip install scikit-learn chembl_webresource_client pandas\n",
        "!pip install matplotlib\n",
        "!pip install seaborn\n",
        "\n",
        "!pip install scikit-optimize\n"
      ]
    },
    {
      "cell_type": "markdown",
      "source": [
        "Optional libraries and packages"
      ],
      "metadata": {
        "id": "FYnjcU-Tt3NT"
      }
    },
    {
      "cell_type": "code",
      "source": [],
      "metadata": {
        "id": "zDUXrfcxtu-K"
      },
      "execution_count": null,
      "outputs": []
    },
    {
      "cell_type": "code",
      "execution_count": null,
      "metadata": {
        "id": "L_xZ7DD7C8TO",
        "cellView": "form"
      },
      "outputs": [],
      "source": [
        "#@title Import libraries and packages\n",
        "%%capture\n",
        "from rdkit import Chem\n",
        "from rdkit.Chem import AllChem\n",
        "from sklearn.svm import SVR\n",
        "import pandas as pd\n",
        "import ipywidgets as widgets\n",
        "from IPython.display import display\n",
        "from chembl_webresource_client.new_client import new_client\n",
        "import matplotlib.pyplot as plt\n",
        "import seaborn as sns\n",
        "from sklearn.metrics import mean_squared_error\n",
        "import numpy as np\n",
        "from sklearn.metrics import r2_score, mean_squared_error\n",
        "\n",
        "\n",
        "from sklearn.model_selection import RandomizedSearchCV\n",
        "from sklearn.svm import SVR\n",
        "from scipy.stats import uniform, reciprocal\n",
        "\n",
        "\n",
        "from skopt import BayesSearchCV\n",
        "from sklearn.model_selection import train_test_split\n",
        "\n",
        "#normalizacao\n",
        "from sklearn.preprocessing import StandardScaler"
      ]
    },
    {
      "cell_type": "markdown",
      "metadata": {
        "id": "9GAukgIIJdSp"
      },
      "source": [
        "# FragFp descriptor calculation by RDkit"
      ]
    },
    {
      "cell_type": "code",
      "execution_count": null,
      "metadata": {
        "id": "xFh8tEVJL5F1",
        "cellView": "form"
      },
      "outputs": [],
      "source": [
        "#@title FragFp descriptor\n",
        "%%capture\n",
        "def calculate_fragfp(molecule):\n",
        "    mol = Chem.MolFromSmiles(molecule['canonical_smiles'])\n",
        "    fragfp = AllChem.GetMorganFingerprintAsBitVect(mol, 2, nBits=2048)\n",
        "    return list(fragfp)"
      ]
    },
    {
      "cell_type": "markdown",
      "metadata": {
        "id": "3jVDSK-MNYhl"
      },
      "source": [
        "# Get ChEMBL data for human AChE"
      ]
    },
    {
      "cell_type": "code",
      "execution_count": null,
      "metadata": {
        "id": "GKuXsVeVNm6U"
      },
      "outputs": [],
      "source": [
        "#@title ChEMBLdb\n",
        "%%capture\n",
        "target = new_client.target\n",
        "target_query = target.search('acetylcholinesterase')\n",
        "acetylcholinesterase = target_query[0]\n",
        "\n",
        "activity = new_client.activity\n",
        "activity_query = activity.filter(target_chembl_id=acetylcholinesterase['target_chembl_id'], standard_type=\"IC50\")"
      ]
    },
    {
      "cell_type": "markdown",
      "metadata": {
        "id": "qZyKkssrOJk7"
      },
      "source": [
        "# Extract SMILES and IC50 values"
      ]
    },
    {
      "cell_type": "code",
      "execution_count": null,
      "metadata": {
        "id": "1kKx6iQOOOZj"
      },
      "outputs": [],
      "source": [
        "#@title SMILES and IC50\n",
        "#@markdown It will take some minutes, Please, drink water &#x1F4A6; and wait.\n",
        "%%capture\n",
        "data = [{'canonical_smiles': entry['canonical_smiles'], 'ic50': entry['value']} for entry in activity_query]"
      ]
    },
    {
      "cell_type": "code",
      "execution_count": null,
      "metadata": {
        "cellView": "form",
        "id": "kWfjYTLfOqsS"
      },
      "outputs": [],
      "source": [
        "#@title DataFrame\n",
        "%%capture\n",
        "df = pd.DataFrame(data)"
      ]
    },
    {
      "cell_type": "code",
      "execution_count": null,
      "metadata": {
        "cellView": "form",
        "id": "6-ug2CZroqrG"
      },
      "outputs": [],
      "source": [
        "#@title Cleaning DataFrame\n",
        "%%capture\n",
        "df.dropna(inplace=True)"
      ]
    },
    {
      "cell_type": "markdown",
      "metadata": {
        "id": "KcvHMtK-OvWq"
      },
      "source": [
        "# Creating SVM Model\n",
        "Criar conjunto de dados de treino"
      ]
    },
    {
      "cell_type": "code",
      "execution_count": null,
      "metadata": {
        "id": "Xvo1JMsewvM8"
      },
      "outputs": [],
      "source": [
        "#@title Create a training DataSet\n",
        "%%capture\n",
        "X_train = [calculate_fragfp(molecule) for _, molecule in df.dropna().iterrows()]\n",
        "y_train = df['ic50'].astype(float).dropna()"
      ]
    },
    {
      "cell_type": "code",
      "execution_count": null,
      "metadata": {
        "id": "wiJ-TJNxomlv",
        "cellView": "form"
      },
      "outputs": [],
      "source": [
        "#@title Checking DataFrame\n",
        "%%capture\n",
        "print(len(X_train), len(y_train))"
      ]
    },
    {
      "cell_type": "code",
      "execution_count": null,
      "metadata": {
        "id": "RnWvJbz_vivn",
        "colab": {
          "base_uri": "https://localhost:8080/",
          "height": 423
        },
        "outputId": "355025cd-92ad-44c0-e1ee-60c5e623ec92"
      },
      "outputs": [
        {
          "output_type": "display_data",
          "data": {
            "text/plain": [
              "                                       canonical_smiles   ic50\n",
              "0                 CCOc1nn(-c2cccc(OCc3ccccc3)c2)c(=O)o1   0.75\n",
              "1            O=C(N1CCCCC1)n1nc(-c2ccc(Cl)cc2)nc1SCC1CC1    0.1\n",
              "2     CN(C(=O)n1nc(-c2ccc(Cl)cc2)nc1SCC(F)(F)F)c1ccccc1   50.0\n",
              "3         O=C(N1CCCCC1)n1nc(-c2ccc(Cl)cc2)nc1SCC(F)(F)F    0.3\n",
              "4             CSc1nc(-c2ccc(OC(F)(F)F)cc2)nn1C(=O)N(C)C    0.8\n",
              "...                                                 ...    ...\n",
              "8827      CC[C@@]1(c2cccc(OC(=O)Nc3ccccc3)c2)CCCCN(C)C1  274.0\n",
              "8828             O=c1[nH]c2ccc(OCc3ccc(F)cc3)cc2c(=O)o1   76.2\n",
              "8829         CC(C)c1ccc(COc2ccc3[nH]c(=O)oc(=O)c3c2)cc1   55.0\n",
              "8830                            Nc1c2c(nc3ccccc13)CCCC2   1.18\n",
              "8831  Cn1ccc2cc(-c3cnc4ccc(C(=O)N5CCCCC5)cc4n3)ccc2c1=O    5.4\n",
              "\n",
              "[7547 rows x 2 columns]"
            ],
            "text/html": [
              "\n",
              "  <div id=\"df-9cabc9f6-2c3f-4e4d-9374-f71820e48f12\" class=\"colab-df-container\">\n",
              "    <div>\n",
              "<style scoped>\n",
              "    .dataframe tbody tr th:only-of-type {\n",
              "        vertical-align: middle;\n",
              "    }\n",
              "\n",
              "    .dataframe tbody tr th {\n",
              "        vertical-align: top;\n",
              "    }\n",
              "\n",
              "    .dataframe thead th {\n",
              "        text-align: right;\n",
              "    }\n",
              "</style>\n",
              "<table border=\"1\" class=\"dataframe\">\n",
              "  <thead>\n",
              "    <tr style=\"text-align: right;\">\n",
              "      <th></th>\n",
              "      <th>canonical_smiles</th>\n",
              "      <th>ic50</th>\n",
              "    </tr>\n",
              "  </thead>\n",
              "  <tbody>\n",
              "    <tr>\n",
              "      <th>0</th>\n",
              "      <td>CCOc1nn(-c2cccc(OCc3ccccc3)c2)c(=O)o1</td>\n",
              "      <td>0.75</td>\n",
              "    </tr>\n",
              "    <tr>\n",
              "      <th>1</th>\n",
              "      <td>O=C(N1CCCCC1)n1nc(-c2ccc(Cl)cc2)nc1SCC1CC1</td>\n",
              "      <td>0.1</td>\n",
              "    </tr>\n",
              "    <tr>\n",
              "      <th>2</th>\n",
              "      <td>CN(C(=O)n1nc(-c2ccc(Cl)cc2)nc1SCC(F)(F)F)c1ccccc1</td>\n",
              "      <td>50.0</td>\n",
              "    </tr>\n",
              "    <tr>\n",
              "      <th>3</th>\n",
              "      <td>O=C(N1CCCCC1)n1nc(-c2ccc(Cl)cc2)nc1SCC(F)(F)F</td>\n",
              "      <td>0.3</td>\n",
              "    </tr>\n",
              "    <tr>\n",
              "      <th>4</th>\n",
              "      <td>CSc1nc(-c2ccc(OC(F)(F)F)cc2)nn1C(=O)N(C)C</td>\n",
              "      <td>0.8</td>\n",
              "    </tr>\n",
              "    <tr>\n",
              "      <th>...</th>\n",
              "      <td>...</td>\n",
              "      <td>...</td>\n",
              "    </tr>\n",
              "    <tr>\n",
              "      <th>8827</th>\n",
              "      <td>CC[C@@]1(c2cccc(OC(=O)Nc3ccccc3)c2)CCCCN(C)C1</td>\n",
              "      <td>274.0</td>\n",
              "    </tr>\n",
              "    <tr>\n",
              "      <th>8828</th>\n",
              "      <td>O=c1[nH]c2ccc(OCc3ccc(F)cc3)cc2c(=O)o1</td>\n",
              "      <td>76.2</td>\n",
              "    </tr>\n",
              "    <tr>\n",
              "      <th>8829</th>\n",
              "      <td>CC(C)c1ccc(COc2ccc3[nH]c(=O)oc(=O)c3c2)cc1</td>\n",
              "      <td>55.0</td>\n",
              "    </tr>\n",
              "    <tr>\n",
              "      <th>8830</th>\n",
              "      <td>Nc1c2c(nc3ccccc13)CCCC2</td>\n",
              "      <td>1.18</td>\n",
              "    </tr>\n",
              "    <tr>\n",
              "      <th>8831</th>\n",
              "      <td>Cn1ccc2cc(-c3cnc4ccc(C(=O)N5CCCCC5)cc4n3)ccc2c1=O</td>\n",
              "      <td>5.4</td>\n",
              "    </tr>\n",
              "  </tbody>\n",
              "</table>\n",
              "<p>7547 rows × 2 columns</p>\n",
              "</div>\n",
              "    <div class=\"colab-df-buttons\">\n",
              "\n",
              "  <div class=\"colab-df-container\">\n",
              "    <button class=\"colab-df-convert\" onclick=\"convertToInteractive('df-9cabc9f6-2c3f-4e4d-9374-f71820e48f12')\"\n",
              "            title=\"Convert this dataframe to an interactive table.\"\n",
              "            style=\"display:none;\">\n",
              "\n",
              "  <svg xmlns=\"http://www.w3.org/2000/svg\" height=\"24px\" viewBox=\"0 -960 960 960\">\n",
              "    <path d=\"M120-120v-720h720v720H120Zm60-500h600v-160H180v160Zm220 220h160v-160H400v160Zm0 220h160v-160H400v160ZM180-400h160v-160H180v160Zm440 0h160v-160H620v160ZM180-180h160v-160H180v160Zm440 0h160v-160H620v160Z\"/>\n",
              "  </svg>\n",
              "    </button>\n",
              "\n",
              "  <style>\n",
              "    .colab-df-container {\n",
              "      display:flex;\n",
              "      gap: 12px;\n",
              "    }\n",
              "\n",
              "    .colab-df-convert {\n",
              "      background-color: #E8F0FE;\n",
              "      border: none;\n",
              "      border-radius: 50%;\n",
              "      cursor: pointer;\n",
              "      display: none;\n",
              "      fill: #1967D2;\n",
              "      height: 32px;\n",
              "      padding: 0 0 0 0;\n",
              "      width: 32px;\n",
              "    }\n",
              "\n",
              "    .colab-df-convert:hover {\n",
              "      background-color: #E2EBFA;\n",
              "      box-shadow: 0px 1px 2px rgba(60, 64, 67, 0.3), 0px 1px 3px 1px rgba(60, 64, 67, 0.15);\n",
              "      fill: #174EA6;\n",
              "    }\n",
              "\n",
              "    .colab-df-buttons div {\n",
              "      margin-bottom: 4px;\n",
              "    }\n",
              "\n",
              "    [theme=dark] .colab-df-convert {\n",
              "      background-color: #3B4455;\n",
              "      fill: #D2E3FC;\n",
              "    }\n",
              "\n",
              "    [theme=dark] .colab-df-convert:hover {\n",
              "      background-color: #434B5C;\n",
              "      box-shadow: 0px 1px 3px 1px rgba(0, 0, 0, 0.15);\n",
              "      filter: drop-shadow(0px 1px 2px rgba(0, 0, 0, 0.3));\n",
              "      fill: #FFFFFF;\n",
              "    }\n",
              "  </style>\n",
              "\n",
              "    <script>\n",
              "      const buttonEl =\n",
              "        document.querySelector('#df-9cabc9f6-2c3f-4e4d-9374-f71820e48f12 button.colab-df-convert');\n",
              "      buttonEl.style.display =\n",
              "        google.colab.kernel.accessAllowed ? 'block' : 'none';\n",
              "\n",
              "      async function convertToInteractive(key) {\n",
              "        const element = document.querySelector('#df-9cabc9f6-2c3f-4e4d-9374-f71820e48f12');\n",
              "        const dataTable =\n",
              "          await google.colab.kernel.invokeFunction('convertToInteractive',\n",
              "                                                    [key], {});\n",
              "        if (!dataTable) return;\n",
              "\n",
              "        const docLinkHtml = 'Like what you see? Visit the ' +\n",
              "          '<a target=\"_blank\" href=https://colab.research.google.com/notebooks/data_table.ipynb>data table notebook</a>'\n",
              "          + ' to learn more about interactive tables.';\n",
              "        element.innerHTML = '';\n",
              "        dataTable['output_type'] = 'display_data';\n",
              "        await google.colab.output.renderOutput(dataTable, element);\n",
              "        const docLink = document.createElement('div');\n",
              "        docLink.innerHTML = docLinkHtml;\n",
              "        element.appendChild(docLink);\n",
              "      }\n",
              "    </script>\n",
              "  </div>\n",
              "\n",
              "\n",
              "<div id=\"df-4856addf-5e7a-474f-a51c-087afa2e9603\">\n",
              "  <button class=\"colab-df-quickchart\" onclick=\"quickchart('df-4856addf-5e7a-474f-a51c-087afa2e9603')\"\n",
              "            title=\"Suggest charts\"\n",
              "            style=\"display:none;\">\n",
              "\n",
              "<svg xmlns=\"http://www.w3.org/2000/svg\" height=\"24px\"viewBox=\"0 0 24 24\"\n",
              "     width=\"24px\">\n",
              "    <g>\n",
              "        <path d=\"M19 3H5c-1.1 0-2 .9-2 2v14c0 1.1.9 2 2 2h14c1.1 0 2-.9 2-2V5c0-1.1-.9-2-2-2zM9 17H7v-7h2v7zm4 0h-2V7h2v10zm4 0h-2v-4h2v4z\"/>\n",
              "    </g>\n",
              "</svg>\n",
              "  </button>\n",
              "\n",
              "<style>\n",
              "  .colab-df-quickchart {\n",
              "      --bg-color: #E8F0FE;\n",
              "      --fill-color: #1967D2;\n",
              "      --hover-bg-color: #E2EBFA;\n",
              "      --hover-fill-color: #174EA6;\n",
              "      --disabled-fill-color: #AAA;\n",
              "      --disabled-bg-color: #DDD;\n",
              "  }\n",
              "\n",
              "  [theme=dark] .colab-df-quickchart {\n",
              "      --bg-color: #3B4455;\n",
              "      --fill-color: #D2E3FC;\n",
              "      --hover-bg-color: #434B5C;\n",
              "      --hover-fill-color: #FFFFFF;\n",
              "      --disabled-bg-color: #3B4455;\n",
              "      --disabled-fill-color: #666;\n",
              "  }\n",
              "\n",
              "  .colab-df-quickchart {\n",
              "    background-color: var(--bg-color);\n",
              "    border: none;\n",
              "    border-radius: 50%;\n",
              "    cursor: pointer;\n",
              "    display: none;\n",
              "    fill: var(--fill-color);\n",
              "    height: 32px;\n",
              "    padding: 0;\n",
              "    width: 32px;\n",
              "  }\n",
              "\n",
              "  .colab-df-quickchart:hover {\n",
              "    background-color: var(--hover-bg-color);\n",
              "    box-shadow: 0 1px 2px rgba(60, 64, 67, 0.3), 0 1px 3px 1px rgba(60, 64, 67, 0.15);\n",
              "    fill: var(--button-hover-fill-color);\n",
              "  }\n",
              "\n",
              "  .colab-df-quickchart-complete:disabled,\n",
              "  .colab-df-quickchart-complete:disabled:hover {\n",
              "    background-color: var(--disabled-bg-color);\n",
              "    fill: var(--disabled-fill-color);\n",
              "    box-shadow: none;\n",
              "  }\n",
              "\n",
              "  .colab-df-spinner {\n",
              "    border: 2px solid var(--fill-color);\n",
              "    border-color: transparent;\n",
              "    border-bottom-color: var(--fill-color);\n",
              "    animation:\n",
              "      spin 1s steps(1) infinite;\n",
              "  }\n",
              "\n",
              "  @keyframes spin {\n",
              "    0% {\n",
              "      border-color: transparent;\n",
              "      border-bottom-color: var(--fill-color);\n",
              "      border-left-color: var(--fill-color);\n",
              "    }\n",
              "    20% {\n",
              "      border-color: transparent;\n",
              "      border-left-color: var(--fill-color);\n",
              "      border-top-color: var(--fill-color);\n",
              "    }\n",
              "    30% {\n",
              "      border-color: transparent;\n",
              "      border-left-color: var(--fill-color);\n",
              "      border-top-color: var(--fill-color);\n",
              "      border-right-color: var(--fill-color);\n",
              "    }\n",
              "    40% {\n",
              "      border-color: transparent;\n",
              "      border-right-color: var(--fill-color);\n",
              "      border-top-color: var(--fill-color);\n",
              "    }\n",
              "    60% {\n",
              "      border-color: transparent;\n",
              "      border-right-color: var(--fill-color);\n",
              "    }\n",
              "    80% {\n",
              "      border-color: transparent;\n",
              "      border-right-color: var(--fill-color);\n",
              "      border-bottom-color: var(--fill-color);\n",
              "    }\n",
              "    90% {\n",
              "      border-color: transparent;\n",
              "      border-bottom-color: var(--fill-color);\n",
              "    }\n",
              "  }\n",
              "</style>\n",
              "\n",
              "  <script>\n",
              "    async function quickchart(key) {\n",
              "      const quickchartButtonEl =\n",
              "        document.querySelector('#' + key + ' button');\n",
              "      quickchartButtonEl.disabled = true;  // To prevent multiple clicks.\n",
              "      quickchartButtonEl.classList.add('colab-df-spinner');\n",
              "      try {\n",
              "        const charts = await google.colab.kernel.invokeFunction(\n",
              "            'suggestCharts', [key], {});\n",
              "      } catch (error) {\n",
              "        console.error('Error during call to suggestCharts:', error);\n",
              "      }\n",
              "      quickchartButtonEl.classList.remove('colab-df-spinner');\n",
              "      quickchartButtonEl.classList.add('colab-df-quickchart-complete');\n",
              "    }\n",
              "    (() => {\n",
              "      let quickchartButtonEl =\n",
              "        document.querySelector('#df-4856addf-5e7a-474f-a51c-087afa2e9603 button');\n",
              "      quickchartButtonEl.style.display =\n",
              "        google.colab.kernel.accessAllowed ? 'block' : 'none';\n",
              "    })();\n",
              "  </script>\n",
              "</div>\n",
              "\n",
              "  <div id=\"id_f9db58ed-f12e-4f68-8622-2bb403e0e42c\">\n",
              "    <style>\n",
              "      .colab-df-generate {\n",
              "        background-color: #E8F0FE;\n",
              "        border: none;\n",
              "        border-radius: 50%;\n",
              "        cursor: pointer;\n",
              "        display: none;\n",
              "        fill: #1967D2;\n",
              "        height: 32px;\n",
              "        padding: 0 0 0 0;\n",
              "        width: 32px;\n",
              "      }\n",
              "\n",
              "      .colab-df-generate:hover {\n",
              "        background-color: #E2EBFA;\n",
              "        box-shadow: 0px 1px 2px rgba(60, 64, 67, 0.3), 0px 1px 3px 1px rgba(60, 64, 67, 0.15);\n",
              "        fill: #174EA6;\n",
              "      }\n",
              "\n",
              "      [theme=dark] .colab-df-generate {\n",
              "        background-color: #3B4455;\n",
              "        fill: #D2E3FC;\n",
              "      }\n",
              "\n",
              "      [theme=dark] .colab-df-generate:hover {\n",
              "        background-color: #434B5C;\n",
              "        box-shadow: 0px 1px 3px 1px rgba(0, 0, 0, 0.15);\n",
              "        filter: drop-shadow(0px 1px 2px rgba(0, 0, 0, 0.3));\n",
              "        fill: #FFFFFF;\n",
              "      }\n",
              "    </style>\n",
              "    <button class=\"colab-df-generate\" onclick=\"generateWithVariable('df')\"\n",
              "            title=\"Generate code using this dataframe.\"\n",
              "            style=\"display:none;\">\n",
              "\n",
              "  <svg xmlns=\"http://www.w3.org/2000/svg\" height=\"24px\"viewBox=\"0 0 24 24\"\n",
              "       width=\"24px\">\n",
              "    <path d=\"M7,19H8.4L18.45,9,17,7.55,7,17.6ZM5,21V16.75L18.45,3.32a2,2,0,0,1,2.83,0l1.4,1.43a1.91,1.91,0,0,1,.58,1.4,1.91,1.91,0,0,1-.58,1.4L9.25,21ZM18.45,9,17,7.55Zm-12,3A5.31,5.31,0,0,0,4.9,8.1,5.31,5.31,0,0,0,1,6.5,5.31,5.31,0,0,0,4.9,4.9,5.31,5.31,0,0,0,6.5,1,5.31,5.31,0,0,0,8.1,4.9,5.31,5.31,0,0,0,12,6.5,5.46,5.46,0,0,0,6.5,12Z\"/>\n",
              "  </svg>\n",
              "    </button>\n",
              "    <script>\n",
              "      (() => {\n",
              "      const buttonEl =\n",
              "        document.querySelector('#id_f9db58ed-f12e-4f68-8622-2bb403e0e42c button.colab-df-generate');\n",
              "      buttonEl.style.display =\n",
              "        google.colab.kernel.accessAllowed ? 'block' : 'none';\n",
              "\n",
              "      buttonEl.onclick = () => {\n",
              "        google.colab.notebook.generateWithVariable('df');\n",
              "      }\n",
              "      })();\n",
              "    </script>\n",
              "  </div>\n",
              "\n",
              "    </div>\n",
              "  </div>\n"
            ],
            "application/vnd.google.colaboratory.intrinsic+json": {
              "type": "dataframe",
              "variable_name": "df",
              "summary": "{\n  \"name\": \"df\",\n  \"rows\": 7547,\n  \"fields\": [\n    {\n      \"column\": \"canonical_smiles\",\n      \"properties\": {\n        \"dtype\": \"string\",\n        \"num_unique_values\": 6157,\n        \"samples\": [\n          \"COc1ccc2nc3c(c(NCCCCCCCCNC(=O)[C@@H](N)Cc4c[nH]c5ccccc45)c2c1)CCCC3.Cl.Cl\",\n          \"COc1ccc2c(=O)cc(C(=O)NCCC3CCN(Cc4ccccc4)CC3)oc2c1\",\n          \"O=c1oc2cc(OCCN3CCN(Cc4ccccc4)CC3)ccc2c2ccccc12\"\n        ],\n        \"semantic_type\": \"\",\n        \"description\": \"\"\n      }\n    },\n    {\n      \"column\": \"ic50\",\n      \"properties\": {\n        \"dtype\": \"category\",\n        \"num_unique_values\": 2973,\n        \"samples\": [\n          \"7270.0\",\n          \"184.0\",\n          \"558.0\"\n        ],\n        \"semantic_type\": \"\",\n        \"description\": \"\"\n      }\n    }\n  ]\n}"
            }
          },
          "metadata": {}
        }
      ],
      "source": [
        "display(df)"
      ]
    },
    {
      "cell_type": "markdown",
      "metadata": {
        "id": "3dn2OhrHO3r6"
      },
      "source": [
        "# Training SVM Model\n",
        "\n"
      ]
    },
    {
      "cell_type": "code",
      "execution_count": null,
      "metadata": {
        "id": "rnkq9Ow7elQl",
        "cellView": "form"
      },
      "outputs": [],
      "source": [
        "#@title OTIMIZAÇÃO DE PARAMETROS GERAL\n",
        "# Defina a grade de parâmetros que deseja explorar\n",
        "param_dist = {\n",
        "    'kernel': ['linear', 'poly', 'rbf', 'sigmoid'],\n",
        "    'C': reciprocal(0.001, 1000),  # Distribuição recíproca para C\n",
        "    'gamma': uniform(0.001, 10),  # Distribuição uniforme para gamma\n",
        "    'degree': [2, 3, 4, 5],  # Grau do polinômio\n",
        "    'coef0': [-1, 0, 1, 2]  # Termo independente em kernels sigmoidais e polinomiais\n",
        "}\n",
        "\n",
        "# Crie uma instância do modelo SVM\n",
        "svm_model = SVR()\n",
        "\n",
        "# Crie uma instância do RandomizedSearchCV\n",
        "random_search = RandomizedSearchCV(\n",
        "    svm_model, param_distributions=param_dist, n_iter=1, cv=5, scoring='neg_mean_squared_error', random_state=42, n_jobs=-1\n",
        ")\n",
        "\n",
        "# Ajuste o modelo aos dados de treinamento\n",
        "random_search.fit(X_train, y_train)\n",
        "\n",
        "# Visualize os melhores parâmetros\n",
        "print(\"Melhores Parâmetros Encontrados:\")\n",
        "print(random_search.best_params_)\n",
        "\n",
        "# Obtenha o melhor modelo treinado\n",
        "best_svm_model = random_search.best_estimator_\n"
      ]
    },
    {
      "cell_type": "code",
      "source": [
        "#@title OTIMIZAÇÃO DE PARAMETROS EXCLUSIVA PARA KERNEL LINEAR\n",
        "# Defina a grade de parâmetros apenas para o kernel linear\n",
        "param_dist_linear = {\n",
        "    'C': reciprocal(0.001, 1000),  # Distribuição recíproca para C\n",
        "}\n",
        "\n",
        "# Crie uma instância do modelo SVM com kernel linear\n",
        "svm_model_linear = SVR(kernel='linear')\n",
        "\n",
        "# Crie uma instância do RandomizedSearchCV apenas para o kernel linear\n",
        "random_search_linear = RandomizedSearchCV(\n",
        "    svm_model_linear, param_distributions=param_dist_linear, n_iter=10, cv=5, scoring='neg_mean_squared_error', random_state=42, n_jobs=-1\n",
        ")\n",
        "\n",
        "# Ajuste o modelo aos dados de treinamento\n",
        "random_search_linear.fit(X_train, y_train)\n",
        "\n",
        "# Visualize os melhores parâmetros para o kernel linear\n",
        "print(\"Melhores Parâmetros Encontrados para o Kernel Linear:\")\n",
        "print(random_search_linear.best_params_)\n",
        "\n",
        "# Obtenha o melhor modelo treinado com kernel linear\n",
        "best_svm_model_linear = random_search_linear.best_estimator_"
      ],
      "metadata": {
        "id": "f3u68C9SA2vA",
        "cellView": "form"
      },
      "execution_count": null,
      "outputs": []
    },
    {
      "cell_type": "code",
      "source": [
        "#@title OTIMIZAÇÃO DE PARAMETROS SEM O KERNEL RBF\n",
        "# Defina a grade de parâmetros que deseja explorar\n",
        "param_dist = {\n",
        "    'kernel': ['linear', 'poly', 'sigmoid'],  # Remova 'rbf' da lista de kernels\n",
        "    'C': reciprocal(0.001, 1000),  # Distribuição recíproca para C\n",
        "    'gamma': uniform(0.001, 10),  # Distribuição uniforme para gamma\n",
        "    'degree': [2, 3, 4, 5],  # Grau do polinômio\n",
        "    'coef0': [-1, 0, 1, 2]  # Termo independente em kernels sigmoidais e polinomiais\n",
        "}\n",
        "\n",
        "# Crie uma instância do modelo SVM\n",
        "svm_model = SVR()\n",
        "\n",
        "# Crie uma instância do RandomizedSearchCV\n",
        "random_search = RandomizedSearchCV(\n",
        "    svm_model, param_distributions=param_dist, n_iter=10, cv=5, scoring='neg_mean_squared_error', random_state=42, n_jobs=-1\n",
        ")\n",
        "\n",
        "# Ajuste o modelo aos dados de treinamento\n",
        "random_search.fit(X_train, y_train)\n",
        "\n",
        "# Visualize os melhores parâmetros\n",
        "print(\"Melhores Parâmetros Encontrados:\")\n",
        "print(random_search.best_params_)\n",
        "\n",
        "# Obtenha o melhor modelo treinado\n",
        "best_svm_model = random_search.best_estimator_"
      ],
      "metadata": {
        "id": "V00C_NijXpUS",
        "cellView": "form"
      },
      "execution_count": null,
      "outputs": []
    },
    {
      "cell_type": "code",
      "execution_count": null,
      "metadata": {
        "id": "XotK5-cuO64J"
      },
      "outputs": [],
      "source": [
        "#@title Kernel configs\n",
        "#@markdown It will take a few minutes. Have you drink water?\n",
        "%%capture\n",
        "#svm_model = SVR(kernel='linear', C=44.750401913509016) # n = 100\n",
        "#svm_model = SVR(kernel='linear', C=0.1767016940294795, gamma=4.390714207056361, degree=4, coef0=-1)\n",
        "svm_model = SVR(kernel='poly', C=4.418441521199722, gamma=0.6515159298527952, degree=2, coef0=-1)\n",
        "svm_model.fit(X_train, y_train)\n"
      ]
    },
    {
      "cell_type": "code",
      "execution_count": null,
      "metadata": {
        "id": "GS6hHDO_GkEt"
      },
      "outputs": [],
      "source": [
        "#@title Predict IC50 for all training set\n",
        "%%capture\n",
        "y_pred_train = svm_model.predict(X_train)"
      ]
    },
    {
      "cell_type": "code",
      "execution_count": null,
      "metadata": {
        "id": "ZMxmIQPtH6pa",
        "colab": {
          "base_uri": "https://localhost:8080/"
        },
        "outputId": "9a823d99-6dd6-4fd8-95f3-1d126f925f5a"
      },
      "outputs": [
        {
          "output_type": "stream",
          "name": "stdout",
          "text": [
            "RMSD dos Resíduos: 28617.2657\n"
          ]
        }
      ],
      "source": [
        "#@title Residues (OPTIONAL)\n",
        "residuos = y_train - y_pred_train\n",
        "\n",
        "# Calcular o RMSD dos resíduos\n",
        "rmsd_residuos = np.sqrt(mean_squared_error(y_train, y_pred_train))\n",
        "\n",
        "# Imprimir o valor do RMSD dos resíduos\n",
        "print(f\"RMSD dos Resíduos: {rmsd_residuos:.4f}\")\n"
      ]
    },
    {
      "cell_type": "code",
      "execution_count": null,
      "metadata": {
        "id": "kA7T5VNgX3ay",
        "colab": {
          "base_uri": "https://localhost:8080/",
          "height": 424
        },
        "outputId": "c4c91f30-95de-4f9c-fb19-14ceaceebca8"
      },
      "outputs": [
        {
          "output_type": "display_data",
          "data": {
            "text/plain": [
              "<Figure size 1000x600 with 1 Axes>"
            ],
            "image/png": "[encoded data removed]"
          },
          "metadata": {}
        }
      ],
      "source": [
        "# Plotar os resíduos (OPTIONAL)\n",
        "plt.figure(figsize=(10, 6))\n",
        "sns.scatterplot(x=y_pred_train, y=residuos)\n",
        "plt.title('Resíduos para IC50 Previsto no Conjunto de Treino')\n",
        "plt.xlabel('IC50 Previsto')\n",
        "plt.ylabel('Resíduos')\n",
        "plt.show()\n"
      ]
    },
    {
      "cell_type": "code",
      "execution_count": null,
      "metadata": {
        "id": "CiJF2OvvRZ_j",
        "colab": {
          "base_uri": "https://localhost:8080/"
        },
        "outputId": "fe959904-c52e-4468-8399-29592ec869b6"
      },
      "outputs": [
        {
          "output_type": "stream",
          "name": "stdout",
          "text": [
            "Valores Observados (y_train):\n",
            "0         0.75\n",
            "1         0.10\n",
            "2        50.00\n",
            "3         0.30\n",
            "4         0.80\n",
            "         ...  \n",
            "8827    274.00\n",
            "8828     76.20\n",
            "8829     55.00\n",
            "8830      1.18\n",
            "8831      5.40\n",
            "Name: ic50, Length: 7547, dtype: float64\n",
            "\n",
            "Valores Previstos (y_pred_train):\n",
            "[6.49769741e-01 3.58601606e-04 5.00997682e+01 ... 5.50997439e+01\n",
            " 7.04498945e+00 5.50008874e+00]\n"
          ]
        }
      ],
      "source": [
        "#OPTIONAL\n",
        "print(\"Valores Observados (y_train):\")\n",
        "print(y_train)\n",
        "\n",
        "print(\"\\nValores Previstos (y_pred_train):\")\n",
        "print(y_pred_train)"
      ]
    },
    {
      "cell_type": "code",
      "execution_count": null,
      "metadata": {
        "id": "RbQx2n3ZwJeg",
        "cellView": "form",
        "colab": {
          "base_uri": "https://localhost:8080/",
          "height": 503
        },
        "outputId": "1a87373c-3952-4f8a-93b5-56c113c2bbf7"
      },
      "outputs": [
        {
          "output_type": "display_data",
          "data": {
            "text/plain": [
              "<Figure size 800x600 with 1 Axes>"
            ],
            "image/png": "[encoded data removed]"
          },
          "metadata": {}
        }
      ],
      "source": [
        "#@title test serie (OPTIONAL)\n",
        "# Selecionar 30 amostras aleatórias\n",
        "indices_aleatorios = np.random.choice(len(y_train), size=30, replace=False)\n",
        "y_train_amostra = y_train.iloc[indices_aleatorios]\n",
        "y_pred_amostra = y_pred_train[indices_aleatorios]\n",
        "\n",
        "# Criar um gráfico de dispersão com as amostras selecionadas\n",
        "plt.figure(figsize=(8, 6))\n",
        "plt.scatter(y_pred_amostra, y_train_amostra, color='blue', label='Previsto vs. Observado (Amostra Aleatória)')\n",
        "plt.plot([0, 200], [0, 200], linestyle='--', color='red', label='Linha de Referência')\n",
        "\n",
        "# Definir intervalo desejado para os eixos X e Y\n",
        "intervalo_x = [0, 100]\n",
        "intervalo_y = [0, 100]\n",
        "\n",
        "# Aplicar o intervalo aos eixos X e Y\n",
        "plt.xlim(intervalo_x)\n",
        "plt.ylim(intervalo_y)\n",
        "\n",
        "# Adicionar rótulos e título ao gráfico\n",
        "plt.xlabel('IC50 Previsto')\n",
        "plt.ylabel('IC50 Observado')\n",
        "plt.title('IC50 Previsto vs. IC50 Observado (Amostra Aleatória)')\n",
        "\n",
        "# Adicionar uma legenda\n",
        "plt.legend()\n",
        "\n",
        "# Exibir o gráfico\n",
        "plt.show()\n"
      ]
    },
    {
      "cell_type": "code",
      "execution_count": null,
      "metadata": {
        "id": "hAeFFrxMQZoA",
        "colab": {
          "base_uri": "https://localhost:8080/"
        },
        "outputId": "d9fb0b42-ca9d-4172-de18-ef66963eed00"
      },
      "outputs": [
        {
          "output_type": "stream",
          "name": "stdout",
          "text": [
            "        y_train  y_pred_train\n",
            "7791   1000.000   1000.101342\n",
            "8597     40.000     39.899896\n",
            "7466      2.320      2.420416\n",
            "8799     20.000     20.099948\n",
            "5864   1175.000   1175.100035\n",
            "2375     42.000     41.900478\n",
            "965     290.000    134.099955\n",
            "6335    802.400    802.500435\n",
            "8658      2.800      2.699936\n",
            "1743   3832.000   3831.900137\n",
            "262      10.000     10.099695\n",
            "2994      0.009     99.900882\n",
            "54    20000.000   2074.052413\n",
            "7762      1.700      1.800053\n",
            "2121     40.000     39.900010\n",
            "1037      1.780      1.880209\n",
            "5018     21.100     21.200385\n",
            "8630      0.136      0.235502\n",
            "2986      0.300    260.099972\n",
            "295     100.000    100.099499\n",
            "1293      0.950      1.049771\n",
            "4953    216.000    163.456252\n",
            "7332     10.500     10.600097\n",
            "1303  19580.000   2444.418030\n",
            "4365     13.640     13.539549\n",
            "5582    100.000     99.899770\n",
            "1436      0.008      0.104164\n",
            "2863    191.100    191.200069\n",
            "6980   1460.000   1147.252329\n",
            "2577      4.400      5.903271\n"
          ]
        }
      ],
      "source": [
        "#OPTIONAL\n",
        "# Criar DataFrame com as amostras selecionadas\n",
        "tabela = pd.DataFrame({'y_train': y_train_amostra, 'y_pred_train': y_pred_amostra})\n",
        "\n",
        "# Exibir a tabela\n",
        "print(tabela)"
      ]
    },
    {
      "cell_type": "code",
      "source": [
        "#@title NOVA TABELA (OPTIONAL)\n",
        "# Calcular a nova coluna\n",
        "pIC50_pred = -np.log((y_pred_amostra)/1000000)\n",
        "pIC50_train = -np.log((y_train_amostra)/1000000)\n",
        "\n",
        "# Calcular o R² para y_pred_amostra\n",
        "r2_pred = r2_score(y_train_amostra, y_pred_amostra)\n",
        "\n",
        "# Criar DataFrame com as amostras selecionadas e a nova coluna\n",
        "tabela = pd.DataFrame({'y_train': y_train_amostra, 'y_pred_train': y_pred_amostra, 'pIC50_train': pIC50_train, 'pIC50_pred': pIC50_pred})\n",
        "\n",
        "# Calcular o R² para y_pred_amostra\n",
        "r2_pred = r2_score(y_train_amostra, y_pred_amostra)\n",
        "\n",
        "# Imprimir o valor de R²\n",
        "print(f\"Coeficiente de Determinação (R²) para y_pred_amostra: {r2_pred:.4f}\")\n",
        "\n",
        "# Exibir a tabela\n",
        "print(tabela)"
      ],
      "metadata": {
        "id": "ONEtHGJW5i7v",
        "cellView": "form",
        "colab": {
          "base_uri": "https://localhost:8080/"
        },
        "outputId": "34aacddb-9a86-4a05-e7e8-2d09321a1a75"
      },
      "execution_count": null,
      "outputs": [
        {
          "output_type": "stream",
          "name": "stdout",
          "text": [
            "Coeficiente de Determinação (R²) para y_pred_amostra: 0.1497\n",
            "        y_train  y_pred_train  pIC50_train  pIC50_pred\n",
            "7791   1000.000   1000.101342     6.907755    6.907654\n",
            "8597     40.000     39.899896    10.126631   10.129137\n",
            "7466      2.320      2.420416    12.973943   12.931571\n",
            "8799     20.000     20.099948    10.819778   10.814793\n",
            "5864   1175.000   1175.100035     6.746487    6.746402\n",
            "2375     42.000     41.900478    10.077841   10.080213\n",
            "965     290.000    134.099955     8.145630    8.916925\n",
            "6335    802.400    802.500435     7.127903    7.127778\n",
            "8658      2.800      2.699936    12.785891   12.822282\n",
            "1743   3832.000   3831.900137     5.564368    5.564394\n",
            "262      10.000     10.099695    11.512925   11.503005\n",
            "2994      0.009     99.900882    18.526041    9.211332\n",
            "54    20000.000   2074.052413     3.912023    6.178251\n",
            "7762      1.700      1.800053    13.284882   13.227694\n",
            "2121     40.000     39.900010    10.126631   10.129134\n",
            "1037      1.780      1.880209    13.238897   13.184128\n",
            "5018     21.100     21.200385    10.766238   10.761491\n",
            "8630      0.136      0.235502    15.810611   15.261547\n",
            "2986      0.300    260.099972    15.019483    8.254444\n",
            "295     100.000    100.099499     9.210340    9.209346\n",
            "1293      0.950      1.049771    13.866804   13.766938\n",
            "4953    216.000    163.456252     8.440232    8.718965\n",
            "7332     10.500     10.600097    11.464135   11.454647\n",
            "1303  19580.000   2444.418030     3.933247    6.013948\n",
            "4365     13.640     13.539549    11.202504   11.209896\n",
            "5582    100.000     99.899770     9.210340    9.211343\n",
            "1436      0.008      0.104164    18.643824   16.077302\n",
            "2863    191.100    191.200069     8.562714    8.562190\n",
            "6980   1460.000   1147.252329     6.529319    6.770385\n",
            "2577      4.400      5.903271    12.333906   12.040004\n"
          ]
        }
      ]
    },
    {
      "cell_type": "code",
      "source": [
        "#@title MSE (ERRO QUADRÁTICO MÉDIO)\n",
        "# Avaliar o modelo no conjunto de teste\n",
        "y_pred = best_svm_model.predict(X_test_scaled)\n",
        "mse = mean_squared_error(y_test, y_pred)\n",
        "print(\"Erro Quadrático Médio (MSE) no conjunto de teste:\", mse)"
      ],
      "metadata": {
        "id": "kMmuckqxYhkb"
      },
      "execution_count": null,
      "outputs": []
    },
    {
      "cell_type": "markdown",
      "metadata": {
        "id": "4P1OBlXwPG5h"
      },
      "source": [
        "# Exibir a previsão (uM)"
      ]
    },
    {
      "cell_type": "code",
      "source": [
        "# @title Texto de título predefinido\n",
        "# Função para prever IC50 e pIC50 com base no SMILES inserido\n",
        "def calculate_fragfp(molecule):\n",
        "    mol = Chem.MolFromSmiles(molecule)\n",
        "    if mol is not None:\n",
        "        fragfp = AllChem.GetMorganFingerprintAsBitVect(mol, 2, nBits=2048)\n",
        "        return list(fragfp)\n",
        "    else:\n",
        "        return None\n",
        "\n",
        "def prever_ic50_e_pic50(smiles):\n",
        "    descritor = calculate_fragfp(smiles)\n",
        "\n",
        "    if descritor is not None:\n",
        "        ic50_predito = svm_model.predict([descritor])[0]\n",
        "        pic50_predito = -np.log10(ic50_predito / 1e6)  # Cálculo do pIC50\n",
        "\n",
        "        print(f'IC50 previsto para a molécula inserida: {ic50_predito}')\n",
        "        print(f'pIC50 previsto para a molécula inserida: {pic50_predito}')\n",
        "\n",
        "        # Mensagem adicional\n",
        "        print(\"ProjectB can predict incorrect values. It's recommended use pIC50 values for better comparative relationships between theoretical and experimental activities\")\n",
        "    else:\n",
        "        print('Erro: Falha na criação da molécula.')\n",
        "\n",
        "# Widget para inserção do SMILES\n",
        "widget_smiles = widgets.Text(description='Insira o SMILES:')\n",
        "display(widget_smiles)\n",
        "\n",
        "# Botão para acionar a previsão\n",
        "botao_prever = widgets.Button(description='Prever IC50 e pIC50')\n",
        "\n",
        "# Função chamada ao clicar no botão\n",
        "def on_botao_prever_click(b):\n",
        "    smiles_inserido = widget_smiles.value\n",
        "    prever_ic50_e_pic50(smiles_inserido)\n",
        "\n",
        "# Conectar a função ao evento de clique do botão\n",
        "botao_prever.on_click(on_botao_prever_click)\n",
        "display(botao_prever)"
      ],
      "metadata": {
        "colab": {
          "base_uri": "https://localhost:8080/",
          "height": 674,
          "referenced_widgets": [
            "1feffe8fe7944fa790172a8f1511a0df",
            "5b24e188858f4cb4a73bcc30b6d69c25",
            "23e1ded614fc439bac779d2b5da4dbbd",
            "78f7f088ce7d48cdbc0cc5629b7cf9bd",
            "8692736347ea4b1bb77e2dabaf5de2d6",
            "08e6b53a686249c6ab8f2303dd760303"
          ]
        },
        "cellView": "form",
        "id": "jg3Mm7BAgs1h",
        "outputId": "9fd67a98-0f89-4214-8b54-5946a2c902fd"
      },
      "execution_count": null,
      "outputs": [
        {
          "output_type": "display_data",
          "data": {
            "text/plain": [
              "Text(value='', description='Insira o SMILES:')"
            ],
            "application/vnd.jupyter.widget-view+json": {
              "version_major": 2,
              "version_minor": 0,
              "model_id": "1feffe8fe7944fa790172a8f1511a0df"
            }
          },
          "metadata": {}
        },
        {
          "output_type": "display_data",
          "data": {
            "text/plain": [
              "Button(description='Prever IC50 e pIC50', style=ButtonStyle())"
            ],
            "application/vnd.jupyter.widget-view+json": {
              "version_major": 2,
              "version_minor": 0,
              "model_id": "78f7f088ce7d48cdbc0cc5629b7cf9bd"
            }
          },
          "metadata": {}
        },
        {
          "output_type": "stream",
          "name": "stdout",
          "text": [
            "IC50 previsto para a molécula inserida: 64.23044149491646\n",
            "pIC50 previsto para a molécula inserida: 4.192259092805345\n",
            "ProjectB can predict incorrect values. It's recommended use pIC50 values for better comparative relationships between theoretical and experimental activities\n",
            "IC50 previsto para a molécula inserida: 1060.9936331679817\n",
            "pIC50 previsto para a molécula inserida: 2.9742872222139365\n",
            "ProjectB can predict incorrect values. It's recommended use pIC50 values for better comparative relationships between theoretical and experimental activities\n",
            "IC50 previsto para a molécula inserida: 144.35064747125242\n",
            "pIC50 previsto para a molécula inserida: 3.8405812637918406\n",
            "ProjectB can predict incorrect values. It's recommended use pIC50 values for better comparative relationships between theoretical and experimental activities\n",
            "IC50 previsto para a molécula inserida: 608.703122976684\n",
            "pIC50 previsto para a molécula inserida: 3.215594470075377\n",
            "ProjectB can predict incorrect values. It's recommended use pIC50 values for better comparative relationships between theoretical and experimental activities\n",
            "IC50 previsto para a molécula inserida: 368.73123207329405\n",
            "pIC50 previsto para a molécula inserida: 3.4332900754597038\n",
            "ProjectB can predict incorrect values. It's recommended use pIC50 values for better comparative relationships between theoretical and experimental activities\n",
            "IC50 previsto para a molécula inserida: 102.02814315846082\n",
            "pIC50 previsto para a molécula inserida: 3.991280017134465\n",
            "ProjectB can predict incorrect values. It's recommended use pIC50 values for better comparative relationships between theoretical and experimental activities\n",
            "IC50 previsto para a molécula inserida: 463.38337102447065\n",
            "pIC50 previsto para a molécula inserida: 3.3340595553580687\n",
            "ProjectB can predict incorrect values. It's recommended use pIC50 values for better comparative relationships between theoretical and experimental activities\n",
            "IC50 previsto para a molécula inserida: 439.7766803870445\n",
            "pIC50 previsto para a molécula inserida: 3.3567678032783994\n",
            "ProjectB can predict incorrect values. It's recommended use pIC50 values for better comparative relationships between theoretical and experimental activities\n",
            "IC50 previsto para a molécula inserida: 375.4468530865937\n",
            "pIC50 previsto para a molécula inserida: 3.4254515314822003\n",
            "ProjectB can predict incorrect values. It's recommended use pIC50 values for better comparative relationships between theoretical and experimental activities\n",
            "IC50 previsto para a molécula inserida: 5.449754620915684\n",
            "pIC50 previsto para a molécula inserida: 5.263623051701592\n",
            "ProjectB can predict incorrect values. It's recommended use pIC50 values for better comparative relationships between theoretical and experimental activities\n",
            "IC50 previsto para a molécula inserida: 406.74763995708736\n",
            "pIC50 previsto para a molécula inserida: 3.390674958259788\n",
            "ProjectB can predict incorrect values. It's recommended use pIC50 values for better comparative relationships between theoretical and experimental activities\n"
          ]
        }
      ]
    },
    {
      "cell_type": "code",
      "execution_count": null,
      "metadata": {
        "colab": {
          "base_uri": "https://localhost:8080/"
        },
        "id": "NvwgidDewYjN",
        "outputId": "64d4f108-327b-4788-a618-59d76b529214",
        "cellView": "form"
      },
      "outputs": [
        {
          "output_type": "stream",
          "name": "stdout",
          "text": [
            "IC50 previsto para a nova molécula fictícia: 114.79953291489667\n"
          ]
        }
      ],
      "source": [
        "#@title previsão simplificada\n",
        "# Modifique a função calculate_fragfp para lidar com a criação da molécula\n",
        "def calculate_fragfp(smiles):\n",
        "    mol = Chem.MolFromSmiles(smiles)\n",
        "    if mol is not None:\n",
        "        fragfp = AllChem.GetMorganFingerprintAsBitVect(mol, 2, nBits=2048)\n",
        "        return list(fragfp)\n",
        "    else:\n",
        "        return None\n",
        "\n",
        "# Exemplo: prever IC50 para a nova molécula fictícia\n",
        "nova_molecula_smiles = 'COc1ncc(cn1)C(=O)N1C[C@@H]2CCN(C)[C@@H]2C1'\n",
        "nova_molecula_descritor = calculate_fragfp(nova_molecula_smiles)\n",
        "\n",
        "# Verifique se a molécula foi criada corretamente antes de prosseguir\n",
        "if nova_molecula_descritor is not None:\n",
        "    ic50_nova_molecula_predito = svm_model.predict([nova_molecula_descritor])[0]\n",
        "    print(f'IC50 previsto para a nova molécula fictícia: {ic50_nova_molecula_predito}')\n",
        "else:\n",
        "    print('Erro: Falha na criação da molécula.')"
      ]
    }
  ],
  "metadata": {
    "colab": {
      "toc_visible": true,
      "provenance": [],
      "include_colab_link": true
    },
    "kernelspec": {
      "display_name": "Python 3",
      "name": "python3"
    },
    "language_info": {
      "name": "python"
    },
    "widgets": {
      "application/vnd.jupyter.widget-state+json": {
        "1feffe8fe7944fa790172a8f1511a0df": {
          "model_module": "@jupyter-widgets/controls",
          "model_name": "TextModel",
          "model_module_version": "1.5.0",
          "state": {
            "_dom_classes": [],
            "_model_module": "@jupyter-widgets/controls",
            "_model_module_version": "1.5.0",
            "_model_name": "TextModel",
            "_view_count": null,
            "_view_module": "@jupyter-widgets/controls",
            "_view_module_version": "1.5.0",
            "_view_name": "TextView",
            "continuous_update": true,
            "description": "Insira o SMILES:",
            "description_tooltip": null,
            "disabled": false,
            "layout": "IPY_MODEL_5b24e188858f4cb4a73bcc30b6d69c25",
            "placeholder": "​",
            "style": "IPY_MODEL_23e1ded614fc439bac779d2b5da4dbbd",
            "value": "NC1CCN(CC1)c1cc2CCCCc2nn1"
          }
        },
        "5b24e188858f4cb4a73bcc30b6d69c25": {
          "model_module": "@jupyter-widgets/base",
          "model_name": "LayoutModel",
          "model_module_version": "1.2.0",
          "state": {
            "_model_module": "@jupyter-widgets/base",
            "_model_module_version": "1.2.0",
            "_model_name": "LayoutModel",
            "_view_count": null,
            "_view_module": "@jupyter-widgets/base",
            "_view_module_version": "1.2.0",
            "_view_name": "LayoutView",
            "align_content": null,
            "align_items": null,
            "align_self": null,
            "border": null,
            "bottom": null,
            "display": null,
            "flex": null,
            "flex_flow": null,
            "grid_area": null,
            "grid_auto_columns": null,
            "grid_auto_flow": null,
            "grid_auto_rows": null,
            "grid_column": null,
            "grid_gap": null,
            "grid_row": null,
            "grid_template_areas": null,
            "grid_template_columns": null,
            "grid_template_rows": null,
            "height": null,
            "justify_content": null,
            "justify_items": null,
            "left": null,
            "margin": null,
            "max_height": null,
            "max_width": null,
            "min_height": null,
            "min_width": null,
            "object_fit": null,
            "object_position": null,
            "order": null,
            "overflow": null,
            "overflow_x": null,
            "overflow_y": null,
            "padding": null,
            "right": null,
            "top": null,
            "visibility": null,
            "width": null
          }
        },
        "23e1ded614fc439bac779d2b5da4dbbd": {
          "model_module": "@jupyter-widgets/controls",
          "model_name": "DescriptionStyleModel",
          "model_module_version": "1.5.0",
          "state": {
            "_model_module": "@jupyter-widgets/controls",
            "_model_module_version": "1.5.0",
            "_model_name": "DescriptionStyleModel",
            "_view_count": null,
            "_view_module": "@jupyter-widgets/base",
            "_view_module_version": "1.2.0",
            "_view_name": "StyleView",
            "description_width": ""
          }
        },
        "78f7f088ce7d48cdbc0cc5629b7cf9bd": {
          "model_module": "@jupyter-widgets/controls",
          "model_name": "ButtonModel",
          "model_module_version": "1.5.0",
          "state": {
            "_dom_classes": [],
            "_model_module": "@jupyter-widgets/controls",
            "_model_module_version": "1.5.0",
            "_model_name": "ButtonModel",
            "_view_count": null,
            "_view_module": "@jupyter-widgets/controls",
            "_view_module_version": "1.5.0",
            "_view_name": "ButtonView",
            "button_style": "",
            "description": "Prever IC50 e pIC50",
            "disabled": false,
            "icon": "",
            "layout": "IPY_MODEL_8692736347ea4b1bb77e2dabaf5de2d6",
            "style": "IPY_MODEL_08e6b53a686249c6ab8f2303dd760303",
            "tooltip": ""
          }
        },
        "8692736347ea4b1bb77e2dabaf5de2d6": {
          "model_module": "@jupyter-widgets/base",
          "model_name": "LayoutModel",
          "model_module_version": "1.2.0",
          "state": {
            "_model_module": "@jupyter-widgets/base",
            "_model_module_version": "1.2.0",
            "_model_name": "LayoutModel",
            "_view_count": null,
            "_view_module": "@jupyter-widgets/base",
            "_view_module_version": "1.2.0",
            "_view_name": "LayoutView",
            "align_content": null,
            "align_items": null,
            "align_self": null,
            "border": null,
            "bottom": null,
            "display": null,
            "flex": null,
            "flex_flow": null,
            "grid_area": null,
            "grid_auto_columns": null,
            "grid_auto_flow": null,
            "grid_auto_rows": null,
            "grid_column": null,
            "grid_gap": null,
            "grid_row": null,
            "grid_template_areas": null,
            "grid_template_columns": null,
            "grid_template_rows": null,
            "height": null,
            "justify_content": null,
            "justify_items": null,
            "left": null,
            "margin": null,
            "max_height": null,
            "max_width": null,
            "min_height": null,
            "min_width": null,
            "object_fit": null,
            "object_position": null,
            "order": null,
            "overflow": null,
            "overflow_x": null,
            "overflow_y": null,
            "padding": null,
            "right": null,
            "top": null,
            "visibility": null,
            "width": null
          }
        },
        "08e6b53a686249c6ab8f2303dd760303": {
          "model_module": "@jupyter-widgets/controls",
          "model_name": "ButtonStyleModel",
          "model_module_version": "1.5.0",
          "state": {
            "_model_module": "@jupyter-widgets/controls",
            "_model_module_version": "1.5.0",
            "_model_name": "ButtonStyleModel",
            "_view_count": null,
            "_view_module": "@jupyter-widgets/base",
            "_view_module_version": "1.2.0",
            "_view_name": "StyleView",
            "button_color": null,
            "font_weight": ""
          }
        }
      }
    }
  },
  "nbformat": 4,
  "nbformat_minor": 0
}